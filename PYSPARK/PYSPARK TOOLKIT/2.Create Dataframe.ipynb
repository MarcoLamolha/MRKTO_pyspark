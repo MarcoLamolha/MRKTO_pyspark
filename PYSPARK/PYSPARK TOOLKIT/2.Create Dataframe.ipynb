{
 "cells": [
  {
   "cell_type": "markdown",
   "metadata": {},
   "source": [
    "# PYSPARK TOOLKIT"
   ]
  },
  {
   "cell_type": "markdown",
   "metadata": {},
   "source": [
    "## Import from PySpark"
   ]
  },
  {
   "cell_type": "code",
   "execution_count": 2,
   "metadata": {},
   "outputs": [],
   "source": [
    "# Import required libraries\n",
    "from pyspark.sql import SparkSession\n",
    "from pyspark.sql.types import StructType,StructField, StringType, IntegerType  "
   ]
  },
  {
   "cell_type": "markdown",
   "metadata": {},
   "source": [
    "## Initialize Spark Session"
   ]
  },
  {
   "cell_type": "code",
   "execution_count": 3,
   "metadata": {},
   "outputs": [
    {
     "name": "stdout",
     "output_type": "stream",
     "text": [
      "<class 'pyspark.sql.session.SparkSession'>\n",
      "3.5.3\n",
      "PySparkSQL\n"
     ]
    }
   ],
   "source": [
    "# Create a Spark session\n",
    "spark = SparkSession.builder.appName(\"PySparkSQL\").getOrCreate()\n",
    "\n",
    "# Check the Spark session\n",
    "print(type(spark))\n",
    "\n",
    "# Print the Spark session details\n",
    "print(spark.version)\n",
    "print(spark.sparkContext.appName)"
   ]
  },
  {
   "cell_type": "markdown",
   "metadata": {},
   "source": [
    "## Create Dataframe \n",
    ".type() = pyspark.sql.dataframe.DataFrame"
   ]
  },
  {
   "cell_type": "code",
   "execution_count": null,
   "metadata": {},
   "outputs": [],
   "source": [
    "data = [\n",
    "    (\"Jack\",\"\",\"Eldridge\",\"36636\",\"M\",90000),\n",
    "    (\"Matthew\",\"J\", \"Munro\",\"28832\",\"M\",45400),\n",
    "    (\"Sheila\",\"Oway\", \"Roberts\",\"12114\",\"F\",64000),\n",
    "    (\"Anne\",\"\", \"Dushane\",\"32192\",\"F\",141000),\n",
    "    (\"Jane\",\"Rebecca\",\"Jones\",\"99482\",\"F\",56000)\n",
    "    ]"
   ]
  },
  {
   "cell_type": "markdown",
   "metadata": {},
   "source": [
    "### CREATE: Using Spark"
   ]
  },
  {
   "cell_type": "code",
   "execution_count": null,
   "metadata": {},
   "outputs": [
    {
     "name": "stdout",
     "output_type": "stream",
     "text": [
      "root\n",
      " |-- firstname: string (nullable = true)\n",
      " |-- middlename: string (nullable = true)\n",
      " |-- lastname: string (nullable = true)\n",
      " |-- id: string (nullable = true)\n",
      " |-- gender: string (nullable = true)\n",
      " |-- salary: integer (nullable = true)\n",
      "\n",
      "+---------+----------+--------+-----+------+------+\n",
      "|firstname|middlename|lastname|id   |gender|salary|\n",
      "+---------+----------+--------+-----+------+------+\n",
      "|Jack     |          |Eldridge|36636|M     |90000 |\n",
      "|Matthew  |J         |Munro   |28832|M     |45400 |\n",
      "|Sheila   |Oway      |Roberts |12114|F     |64000 |\n",
      "|Anne     |          |Dushane |32192|F     |141000|\n",
      "|Jane     |Rebecca   |Jones   |99482|F     |56000 |\n",
      "+---------+----------+--------+-----+------+------+\n",
      "\n"
     ]
    }
   ],
   "source": [
    "# Schema definition statement\n",
    "schema_spark = StructType([ \n",
    "    StructField(\"firstname\",StringType(),True), \n",
    "    StructField(\"middlename\",StringType(),True), \n",
    "    StructField(\"lastname\",StringType(),True),   \n",
    "    StructField(\"id\", StringType(), True), \n",
    "    StructField(\"gender\", StringType(), True), \n",
    "    StructField(\"salary\", IntegerType(), True)\n",
    "    ])\n",
    "\n",
    "# Create a DataFrame using the data and schema defined\n",
    "df_using_spark = spark.createDataFrame(data=data,schema=schema_spark)\n",
    "\n",
    "df_using_spark.printSchema()\n",
    "df_using_spark.show(truncate=False) # truncate=False is specified meaning that the values in the DataFrame will not be truncated, and the full content of each column will be displayed."
   ]
  },
  {
   "cell_type": "markdown",
   "metadata": {},
   "source": [
    "### CREATE: Using DDL SQL"
   ]
  },
  {
   "cell_type": "code",
   "execution_count": null,
   "metadata": {},
   "outputs": [
    {
     "name": "stdout",
     "output_type": "stream",
     "text": [
      "root\n",
      " |-- firstname: string (nullable = true)\n",
      " |-- middlename: string (nullable = true)\n",
      " |-- lastname: string (nullable = true)\n",
      " |-- id: string (nullable = true)\n",
      " |-- gender: string (nullable = true)\n",
      " |-- salary: integer (nullable = true)\n",
      "\n",
      "+---------+----------+--------+-----+------+------+\n",
      "|firstname|middlename|lastname|id   |gender|salary|\n",
      "+---------+----------+--------+-----+------+------+\n",
      "|Jack     |          |Eldridge|36636|M     |90000 |\n",
      "|Matthew  |J         |Munro   |28832|M     |45400 |\n",
      "|Sheila   |Oway      |Roberts |12114|F     |64000 |\n",
      "|Anne     |          |Dushane |32192|F     |141000|\n",
      "|Jane     |Rebecca   |Jones   |99482|F     |56000 |\n",
      "+---------+----------+--------+-----+------+------+\n",
      "\n"
     ]
    }
   ],
   "source": [
    "# Schema definition statement\n",
    "schema_ddlsql = \"firstname STRING, middlename STRING, lastname STRING, id STRING, gender STRING, salary INT \" \n",
    "\n",
    "# Create a DataFrame using the data and schema defined\n",
    "df_using_ddlsql = spark.createDataFrame(data=data,schema=schema_ddlsql)\n",
    "\n",
    "df_using_ddlsql.printSchema()\n",
    "df_using_ddlsql.show(truncate=False) #In this case, truncate=False is specified, which means that the values in the DataFrame will not be truncated, and the full content of each column will be displayed.\n"
   ]
  },
  {
   "cell_type": "code",
   "execution_count": null,
   "metadata": {},
   "outputs": [],
   "source": []
  }
 ],
 "metadata": {
  "kernelspec": {
   "display_name": "Python 3",
   "language": "python",
   "name": "python3"
  },
  "language_info": {
   "codemirror_mode": {
    "name": "ipython",
    "version": 3
   },
   "file_extension": ".py",
   "mimetype": "text/x-python",
   "name": "python",
   "nbconvert_exporter": "python",
   "pygments_lexer": "ipython3",
   "version": "3.11.10"
  }
 },
 "nbformat": 4,
 "nbformat_minor": 2
}
